{
 "cells": [
  {
   "cell_type": "code",
   "execution_count": 4,
   "metadata": {},
   "outputs": [],
   "source": [
    "import pystan\n",
    "import numpy as np\n",
    "import arviz as az\n",
    "import pandas as pd\n",
    "import matplotlib.pyplot as plt\n",
    "%matplotlib inline"
   ]
  },
  {
   "cell_type": "code",
   "execution_count": 15,
   "metadata": {},
   "outputs": [
    {
     "data": {
      "text/plain": [
       "{'N': 288,\n",
       " 'n_subjects': 36,\n",
       " 'times': array([ 0.5,  1. ,  2. ,  4. ,  6. ,  8. , 10. , 12. ,  0.5,  1. ,  2. ,\n",
       "         4. ,  6. ,  8. , 10. , 12. ,  0.5,  1. ,  2. ,  4. ,  6. ,  8. ,\n",
       "        10. , 12. ,  0.5,  1. ,  2. ,  4. ,  6. ,  8. , 10. , 12. ,  0.5,\n",
       "         1. ,  2. ,  4. ,  6. ,  8. , 10. , 12. ,  0.5,  1. ,  2. ,  4. ,\n",
       "         6. ,  8. , 10. , 12. ,  0.5,  1. ,  2. ,  4. ,  6. ,  8. , 10. ,\n",
       "        12. ,  0.5,  1. ,  2. ,  4. ,  6. ,  8. , 10. , 12. ,  0.5,  1. ,\n",
       "         2. ,  4. ,  6. ,  8. , 10. , 12. ,  0.5,  1. ,  2. ,  4. ,  6. ,\n",
       "         8. , 10. , 12. ,  0.5,  1. ,  2. ,  4. ,  6. ,  8. , 10. , 12. ,\n",
       "         0.5,  1. ,  2. ,  4. ,  6. ,  8. , 10. , 12. ,  0.5,  1. ,  2. ,\n",
       "         4. ,  6. ,  8. , 10. , 12. ,  0.5,  1. ,  2. ,  4. ,  6. ,  8. ,\n",
       "        10. , 12. ,  0.5,  1. ,  2. ,  4. ,  6. ,  8. , 10. , 12. ,  0.5,\n",
       "         1. ,  2. ,  4. ,  6. ,  8. , 10. , 12. ,  0.5,  1. ,  2. ,  4. ,\n",
       "         6. ,  8. , 10. , 12. ,  0.5,  1. ,  2. ,  4. ,  6. ,  8. , 10. ,\n",
       "        12. ,  0.5,  1. ,  2. ,  4. ,  6. ,  8. , 10. , 12. ,  0.5,  1. ,\n",
       "         2. ,  4. ,  6. ,  8. , 10. , 12. ,  0.5,  1. ,  2. ,  4. ,  6. ,\n",
       "         8. , 10. , 12. ,  0.5,  1. ,  2. ,  4. ,  6. ,  8. , 10. , 12. ,\n",
       "         0.5,  1. ,  2. ,  4. ,  6. ,  8. , 10. , 12. ,  0.5,  1. ,  2. ,\n",
       "         4. ,  6. ,  8. , 10. , 12. ,  0.5,  1. ,  2. ,  4. ,  6. ,  8. ,\n",
       "        10. , 12. ,  0.5,  1. ,  2. ,  4. ,  6. ,  8. , 10. , 12. ,  0.5,\n",
       "         1. ,  2. ,  4. ,  6. ,  8. , 10. , 12. ,  0.5,  1. ,  2. ,  4. ,\n",
       "         6. ,  8. , 10. , 12. ,  0.5,  1. ,  2. ,  4. ,  6. ,  8. , 10. ,\n",
       "        12. ,  0.5,  1. ,  2. ,  4. ,  6. ,  8. , 10. , 12. ,  0.5,  1. ,\n",
       "         2. ,  4. ,  6. ,  8. , 10. , 12. ,  0.5,  1. ,  2. ,  4. ,  6. ,\n",
       "         8. , 10. , 12. ,  0.5,  1. ,  2. ,  4. ,  6. ,  8. , 10. , 12. ,\n",
       "         0.5,  1. ,  2. ,  4. ,  6. ,  8. , 10. , 12. ,  0.5,  1. ,  2. ,\n",
       "         4. ,  6. ,  8. , 10. , 12. ,  0.5,  1. ,  2. ,  4. ,  6. ,  8. ,\n",
       "        10. , 12. ]),\n",
       " 'yobs': array([0.0007, 0.0327, 0.0797, 0.0592, 0.0422, 0.0234, 0.0164, 0.0329,\n",
       "        0.0082, 0.0454, 0.0697, 0.0756, 0.07  , 0.0401, 0.0268, 0.021 ,\n",
       "        0.0133, 0.1179, 0.1027, 0.2016, 0.119 , 0.0892, 0.0659, 0.0496,\n",
       "        0.0156, 0.0978, 0.103 , 0.1062, 0.0774, 0.0501, 0.042 , 0.0334,\n",
       "        0.1021, 0.1658, 0.1515, 0.144 , 0.0942, 0.0627, 0.0356, 0.0484,\n",
       "        0.0337, 0.0845, 0.1172, 0.0986, 0.0652, 0.0494, 0.0372, 0.0254,\n",
       "        0.0374, 0.0744, 0.0799, 0.0725, 0.0536, 0.0378, 0.0311, 0.0214,\n",
       "        0.0263, 0.0655, 0.162 , 0.1263, 0.0936, 0.0736, 0.0623, 0.0539,\n",
       "        0.0823, 0.1034, 0.1041, 0.081 , 0.0524, 0.0354, 0.0314, 0.0209,\n",
       "        0.0066, 0.0077, 0.0129, 0.0448, 0.0378, 0.0275, 0.0231, 0.016 ,\n",
       "        0.0752, 0.0761, 0.0771, 0.0735, 0.0646, 0.0482, 0.0336, 0.0249,\n",
       "        0.0067, 0.0384, 0.0944, 0.0838, 0.0793, 0.0573, 0.0441, 0.0321,\n",
       "        0.0043, 0.0346, 0.0838, 0.0728, 0.0447, 0.0341, 0.0262, 0.0237,\n",
       "        0.0106, 0.0611, 0.0678, 0.0671, 0.0417, 0.0314, 0.0261, 0.0169,\n",
       "        0.0046, 0.0354, 0.0322, 0.0271, 0.0167, 0.0126, 0.0089, 0.0047,\n",
       "        0.0159, 0.0591, 0.0781, 0.0758, 0.0431, 0.0346, 0.025 , 0.0196,\n",
       "        0.0179, 0.0822, 0.1265, 0.1055, 0.0652, 0.0375, 0.0278, 0.0188,\n",
       "        0.0039, 0.0211, 0.0428, 0.0661, 0.0525, 0.0477, 0.0383, 0.0243,\n",
       "        0.0071, 0.0823, 0.0787, 0.0585, 0.039 , 0.0274, 0.0231, 0.0193,\n",
       "        0.0282, 0.0661, 0.0641, 0.0616, 0.0432, 0.0311, 0.029 , 0.0196,\n",
       "        0.0211, 0.0499, 0.0468, 0.0425, 0.0324, 0.0216, 0.0174, 0.0112,\n",
       "        0.018 , 0.0652, 0.123 , 0.1053, 0.0575, 0.0359, 0.0225, 0.0138,\n",
       "        0.0138, 0.041 , 0.0398, 0.0421, 0.0313, 0.0211, 0.017 , 0.0087,\n",
       "        0.0052, 0.0432, 0.0822, 0.0803, 0.0562, 0.0382, 0.0278, 0.018 ,\n",
       "        0.0379, 0.1199, 0.1257, 0.0984, 0.0594, 0.0423, 0.033 , 0.0225,\n",
       "        0.0074, 0.0183, 0.0233, 0.0297, 0.0224, 0.0174, 0.0158, 0.0108,\n",
       "        0.0156, 0.0392, 0.0574, 0.0686, 0.0455, 0.0391, 0.0183, 0.0123,\n",
       "        0.0241, 0.0505, 0.0861, 0.0914, 0.0579, 0.0431, 0.033 , 0.02  ,\n",
       "        0.0194, 0.041 , 0.0597, 0.0713, 0.0559, 0.0429, 0.0355, 0.0238,\n",
       "        0.0311, 0.0659, 0.0821, 0.0903, 0.0623, 0.043 , 0.0306, 0.021 ,\n",
       "        0.0143, 0.0412, 0.0609, 0.0583, 0.0388, 0.0277, 0.0199, 0.0144,\n",
       "        0.0049, 0.0226, 0.0558, 0.0418, 0.033 , 0.0242, 0.0208, 0.0137,\n",
       "        0.01  , 0.0192, 0.0227, 0.0323, 0.03  , 0.0305, 0.0254, 0.0175,\n",
       "        0.0021, 0.0135, 0.0378, 0.0796, 0.0741, 0.061 , 0.0507, 0.0419,\n",
       "        0.0124, 0.0363, 0.0457, 0.057 , 0.0428, 0.0394, 0.0376, 0.0269,\n",
       "        0.0017, 0.0096, 0.0271, 0.0439, 0.037 , 0.0278, 0.0218, 0.0146]),\n",
       " 'subjectids': array([ 1,  1,  1,  1,  1,  1,  1,  1,  2,  2,  2,  2,  2,  2,  2,  2,  3,\n",
       "         3,  3,  3,  3,  3,  3,  3,  4,  4,  4,  4,  4,  4,  4,  4,  5,  5,\n",
       "         5,  5,  5,  5,  5,  5,  6,  6,  6,  6,  6,  6,  6,  6,  7,  7,  7,\n",
       "         7,  7,  7,  7,  7,  8,  8,  8,  8,  8,  8,  8,  8,  9,  9,  9,  9,\n",
       "         9,  9,  9,  9, 10, 10, 10, 10, 10, 10, 10, 10, 11, 11, 11, 11, 11,\n",
       "        11, 11, 11, 12, 12, 12, 12, 12, 12, 12, 12, 13, 13, 13, 13, 13, 13,\n",
       "        13, 13, 14, 14, 14, 14, 14, 14, 14, 14, 15, 15, 15, 15, 15, 15, 15,\n",
       "        15, 16, 16, 16, 16, 16, 16, 16, 16, 17, 17, 17, 17, 17, 17, 17, 17,\n",
       "        18, 18, 18, 18, 18, 18, 18, 18, 19, 19, 19, 19, 19, 19, 19, 19, 20,\n",
       "        20, 20, 20, 20, 20, 20, 20, 21, 21, 21, 21, 21, 21, 21, 21, 22, 22,\n",
       "        22, 22, 22, 22, 22, 22, 23, 23, 23, 23, 23, 23, 23, 23, 24, 24, 24,\n",
       "        24, 24, 24, 24, 24, 25, 25, 25, 25, 25, 25, 25, 25, 26, 26, 26, 26,\n",
       "        26, 26, 26, 26, 27, 27, 27, 27, 27, 27, 27, 27, 28, 28, 28, 28, 28,\n",
       "        28, 28, 28, 29, 29, 29, 29, 29, 29, 29, 29, 30, 30, 30, 30, 30, 30,\n",
       "        30, 30, 31, 31, 31, 31, 31, 31, 31, 31, 32, 32, 32, 32, 32, 32, 32,\n",
       "        32, 33, 33, 33, 33, 33, 33, 33, 33, 34, 34, 34, 34, 34, 34, 34, 34,\n",
       "        35, 35, 35, 35, 35, 35, 35, 35, 36, 36, 36, 36, 36, 36, 36, 36],\n",
       "       dtype=int8)}"
      ]
     },
     "execution_count": 15,
     "metadata": {},
     "output_type": "execute_result"
    }
   ],
   "source": [
    "df = pd.read_csv('data/apixiban_regression_data.csv')\n",
    "df.head()\n",
    "\n",
    "model_data = dict(\n",
    "    N = df.shape[0],\n",
    "    n_subjects = 36,\n",
    "    times = df.Time.values,\n",
    "    yobs = df.Concentration_scaled.values,\n",
    "    subjectids = pd.Categorical(df.Subject).codes + 1\n",
    ")\n",
    "\n",
    "model_data"
   ]
  },
  {
   "cell_type": "code",
   "execution_count": 9,
   "metadata": {},
   "outputs": [
    {
     "name": "stderr",
     "output_type": "stream",
     "text": [
      "INFO:pystan:COMPILING THE C++ CODE FOR MODEL anon_model_39672a25b3f77d4b530c7e60d8917c90 NOW.\n"
     ]
    }
   ],
   "source": [
    "model = pystan.StanModel(file='stan/models/model.stan')"
   ]
  },
  {
   "cell_type": "code",
   "execution_count": 17,
   "metadata": {},
   "outputs": [
    {
     "name": "stderr",
     "output_type": "stream",
     "text": [
      "WARNING:pystan:Maximum (flat) parameter count (1000) exceeded: skipping diagnostic tests for n_eff and Rhat.\n",
      "To run all diagnostics call pystan.check_hmc_diagnostics(fit)\n"
     ]
    }
   ],
   "source": [
    "fit = model.sampling(model_data)"
   ]
  },
  {
   "cell_type": "code",
   "execution_count": 18,
   "metadata": {},
   "outputs": [],
   "source": [
    "data = az.from_pystan(posterior = fit)"
   ]
  },
  {
   "cell_type": "code",
   "execution_count": 19,
   "metadata": {},
   "outputs": [
    {
     "name": "stderr",
     "output_type": "stream",
     "text": [
      "WARNING:pystan:n_eff / iter below 0.001 indicates that the effective sample size has likely been overestimated\n",
      "WARNING:pystan:Rhat above 1.1 or below 0.9 indicates that the chains very likely have not mixed\n"
     ]
    },
    {
     "data": {
      "text/plain": [
       "{'n_eff': False,\n",
       " 'Rhat': False,\n",
       " 'divergence': True,\n",
       " 'treedepth': True,\n",
       " 'energy': True}"
      ]
     },
     "execution_count": 19,
     "metadata": {},
     "output_type": "execute_result"
    }
   ],
   "source": [
    "pystan.check_hmc_diagnostics(fit)"
   ]
  },
  {
   "cell_type": "code",
   "execution_count": 21,
   "metadata": {},
   "outputs": [],
   "source": [
    "s = fit.summary()\n",
    "summary = pd.DataFrame(s['summary'], columns=s['summary_colnames'], index=s['summary_rownames'])\n"
   ]
  },
  {
   "cell_type": "code",
   "execution_count": 27,
   "metadata": {},
   "outputs": [
    {
     "data": {
      "text/plain": [
       "array([<matplotlib.axes._subplots.AxesSubplot object at 0x1c2e60a750>],\n",
       "      dtype=object)"
      ]
     },
     "execution_count": 27,
     "metadata": {},
     "output_type": "execute_result"
    },
    {
     "data": {
      "image/png": "[encoded data removed]",
      "text/plain": [
       "<Figure size 432x288 with 1 Axes>"
      ]
     },
     "metadata": {
      "image/png": {
       "height": 296,
       "width": 440
      },
      "needs_background": "light"
     },
     "output_type": "display_data"
    }
   ],
   "source": [
    "az.plot_posterior(data, var_names=['mu_CL'])"
   ]
  },
  {
   "cell_type": "code",
   "execution_count": null,
   "metadata": {},
   "outputs": [],
   "source": []
  }
 ],
 "metadata": {
  "kernelspec": {
   "display_name": "Python 3",
   "language": "python",
   "name": "python3"
  },
  "language_info": {
   "codemirror_mode": {
    "name": "ipython",
    "version": 3
   },
   "file_extension": ".py",
   "mimetype": "text/x-python",
   "name": "python",
   "nbconvert_exporter": "python",
   "pygments_lexer": "ipython3",
   "version": "3.7.4"
  }
 },
 "nbformat": 4,
 "nbformat_minor": 4
}
