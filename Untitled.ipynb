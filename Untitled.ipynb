{
 "cells": [
  {
   "cell_type": "code",
   "execution_count": 48,
   "metadata": {},
   "outputs": [
    {
     "name": "stdout",
     "output_type": "stream",
     "text": [
      "The autoreload extension is already loaded. To reload it, use:\n",
      "  %reload_ext autoreload\n"
     ]
    }
   ],
   "source": [
    "import numpy as np\n",
    "import pandas as pd\n",
    "import pymc3 as pm\n",
    "from pymc3 import Model\n",
    "import theano.tensor as tt\n",
    "import arviz as az\n",
    "from python_models import *\n",
    "from sklearn.preprocessing import StandardScaler\n",
    "\n",
    "import matplotlib.pyplot as plt\n",
    "import seaborn as sns\n",
    "%matplotlib inline\n",
    "%load_ext autoreload\n",
    "%autoreload 2\n",
    "pd.options.display.max_rows = 20\n"
   ]
  },
  {
   "cell_type": "code",
   "execution_count": 49,
   "metadata": {},
   "outputs": [
    {
     "data": {
      "text/plain": [
       "(36, 4)"
      ]
     },
     "execution_count": 49,
     "metadata": {},
     "output_type": "execute_result"
    }
   ],
   "source": [
    "df = pd.read_csv('data/apixiban_regression_data.csv')\n",
    "yobs = df.Concentration_scaled.values\n",
    "times = df.Time.values\n",
    "subjectids = pd.Categorical(df.Subject).codes\n",
    "subjects = np.unique(subjectids)\n",
    "\n",
    "covars = df.drop_duplicates(subset = 'Subject').loc[:,['Sex','Age','Creatinine','Weight']]\n",
    "covars['Sex'] = pd.Categorical(covars.Sex).codes\n",
    "X = covars.values\n",
    "X[:, 1:] = StandardScaler().fit_transform(X[:,1:])\n",
    "\n",
    "X.shape"
   ]
  },
  {
   "cell_type": "code",
   "execution_count": null,
   "metadata": {},
   "outputs": [],
   "source": [
    "df['predictions'] = data.posterior.ypred.mean(axis = (0,1)).values\n",
    "df['predictions_low'] = np.quantile(data.posterior.ypred, 0.025, axis = (0,1))\n",
    "df['predictions_high'] = np.quantile(data.posterior.ypred, 0.975, axis = (0,1))\n",
    "\n",
    "df['obs_low'] = np.quantile(data.posterior_predictive.y, 0.025, axis = (0,1))\n",
    "df['obs_high'] = np.quantile(data.posterior_predictive.y, 0.975, axis = (0,1))\n",
    "\n",
    "g = sns.FacetGrid(df, col='Subject', col_wrap=6)\n",
    "\n",
    "g.map(plt.scatter, 'Time','Concentration_scaled')\n",
    "g.map(plt.plot, 'Time','predictions', color = 'red')\n",
    "g.map(plt.fill_between, 'Time','predictions_low', 'predictions_high', color = 'red', alpha = 0.5)\n",
    "g.map(plt.fill_between, 'Time','obs_low', 'obs_high', color = 'red', alpha = 0.1)"
   ]
  },
  {
   "cell_type": "markdown",
   "metadata": {},
   "source": [
    "___"
   ]
  },
  {
   "cell_type": "code",
   "execution_count": 56,
   "metadata": {},
   "outputs": [],
   "source": [
    "condition, no_condition = make_new_subjects(100)\n",
    "\n",
    "\n",
    "times = condition.times.values\n",
    "subjects = np.unique(subjectids)\n",
    "subjectids = condition.subjectids.values\n",
    "\n",
    "test_times = no_condition.times.values\n",
    "test_subjectids = no_condition.subjectids.values\n"
   ]
  },
  {
   "cell_type": "code",
   "execution_count": 57,
   "metadata": {},
   "outputs": [],
   "source": [
    "with StrongModel(None, times, subjectids, test_times, test_subjectids) as tmaxmodel:\n",
    "    \n",
    "    prior = pm.sample_prior_predictive(1)"
   ]
  },
  {
   "cell_type": "code",
   "execution_count": 58,
   "metadata": {},
   "outputs": [],
   "source": [
    "condition['y'] = prior['ypred']\n",
    "yobs = prior['y']\n",
    "no_condition['y'] = prior['y_oos']"
   ]
  },
  {
   "cell_type": "code",
   "execution_count": 59,
   "metadata": {},
   "outputs": [
    {
     "name": "stderr",
     "output_type": "stream",
     "text": [
      "Auto-assigning NUTS sampler...\n",
      "Initializing NUTS using jitter+adapt_diag...\n",
      "Multiprocess sampling (12 chains in 2 jobs)\n",
      "NUTS: [sigma, delay, kappa, phi, alpha, z_t, s_t, mu_t, z_CL, s_CL, mu_CL]\n",
      "Sampling 12 chains, 0 divergences: 100%|██████████| 24000/24000 [05:29<00:00, 72.90draws/s] \n",
      "The number of effective samples is smaller than 25% for some parameters.\n",
      "100%|██████████| 12000/12000 [00:21<00:00, 555.06it/s]\n"
     ]
    }
   ],
   "source": [
    "with StrongModel(yobs, times, subjectids, test_times, test_subjectids) as tmaxmodel:\n",
    "    \n",
    "    prior = pm.sample_prior_predictive()\n",
    "    trace = pm.sample(tune=1000, draws=1000, chains=12)\n",
    "    posterior = pm.sample_posterior_predictive(trace)\n",
    "    \n",
    "    data = az.from_pymc3(prior = prior,\n",
    "                         trace = trace,\n",
    "                         posterior_predictive=posterior,\n",
    "                         coords = {'subject':subjects},\n",
    "                         dims={'CL': ['subject'],\n",
    "                              'ke':['subject'],\n",
    "                              'ka': ['subject'],\n",
    "                              'tmax':['subject']})"
   ]
  },
  {
   "cell_type": "code",
   "execution_count": 63,
   "metadata": {},
   "outputs": [
    {
     "name": "stderr",
     "output_type": "stream",
     "text": [
      "logp = 4,327.9, ||grad|| = 0.48626: 100%|██████████| 1522/1522 [00:01<00:00, 1158.54it/s]\n"
     ]
    }
   ],
   "source": [
    "with tmaxmodel:\n",
    "    pm.find_MAP()"
   ]
  },
  {
   "cell_type": "code",
   "execution_count": null,
   "metadata": {},
   "outputs": [],
   "source": []
  },
  {
   "cell_type": "code",
   "execution_count": null,
   "metadata": {},
   "outputs": [],
   "source": []
  }
 ],
 "metadata": {
  "kernelspec": {
   "display_name": "Python 3",
   "language": "python",
   "name": "python3"
  },
  "language_info": {
   "codemirror_mode": {
    "name": "ipython",
    "version": 3
   },
   "file_extension": ".py",
   "mimetype": "text/x-python",
   "name": "python",
   "nbconvert_exporter": "python",
   "pygments_lexer": "ipython3",
   "version": "3.7.4"
  }
 },
 "nbformat": 4,
 "nbformat_minor": 4
}
